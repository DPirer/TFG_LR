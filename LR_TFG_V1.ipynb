{
 "cells": [
  {
   "cell_type": "markdown",
   "metadata": {},
   "source": [
    "# Ejemplo Regresión Lineal\n",
    "\n",
    "En el siguiente código se crea una red neuronal de una sola neurona que calcula la recta $y = 2x + 1$"
   ]
  },
  {
   "cell_type": "markdown",
   "metadata": {},
   "source": [
    "# Importaciones"
   ]
  },
  {
   "cell_type": "code",
   "execution_count": 1,
   "metadata": {},
   "outputs": [],
   "source": [
    "import tensorflow as tf\n",
    "import numpy as np\n",
    "import matplotlib.pyplot as plt\n",
    "import datetime"
   ]
  },
  {
   "cell_type": "markdown",
   "metadata": {},
   "source": [
    "# Creación de los datos\n",
    "\n",
    "Se crean dos vectores usando numpy. El primero con los valores de $x$ y el segundo con los de $y$ y ploteamos el resultado para observar cómodamente la recta."
   ]
  },
  {
   "cell_type": "code",
   "execution_count": 2,
   "metadata": {},
   "outputs": [
    {
     "data": {
      "image/png": "[encoded data removed]",
      "text/plain": [
       "<Figure size 432x288 with 1 Axes>"
      ]
     },
     "metadata": {
      "needs_background": "light"
     },
     "output_type": "display_data"
    }
   ],
   "source": [
    "x = np.array([-10, 0, 10, 20, 30], dtype=float)\n",
    "y = np.array([-19, 1, 21, 41, 61], dtype=float)\n",
    "\n",
    "# Ploteamos los valores\n",
    "plt.title('y=2x+1')\n",
    "plt.plot(x, y);"
   ]
  },
  {
   "cell_type": "markdown",
   "metadata": {},
   "source": [
    "# Creación del modelo con keras"
   ]
  },
  {
   "cell_type": "code",
   "execution_count": 3,
   "metadata": {},
   "outputs": [
    {
     "name": "stdout",
     "output_type": "stream",
     "text": [
      "Model: \"sequential\"\n",
      "_________________________________________________________________\n",
      "Layer (type)                 Output Shape              Param #   \n",
      "=================================================================\n",
      "dense (Dense)                (None, 1)                 2         \n",
      "=================================================================\n",
      "Total params: 2\n",
      "Trainable params: 2\n",
      "Non-trainable params: 0\n",
      "_________________________________________________________________\n"
     ]
    }
   ],
   "source": [
    "# Definición de las neuronas. Creamos un modelo secuencial con una sola neurona densa cuya entrada va a ser exclusivamente\n",
    "# un número\n",
    "modelo = tf.keras.Sequential([tf.keras.layers.Dense(units=1, input_shape=[1])])\n",
    "\n",
    "# Definimos los parámetros de pérdida y el optimizador\n",
    "modelo.compile(loss='mean_squared_error', optimizer=tf.keras.optimizers.Adam(0.1))\n",
    "\n",
    "# Mostramos información del modelo\n",
    "modelo.summary()"
   ]
  },
  {
   "cell_type": "markdown",
   "metadata": {},
   "source": [
    "# Entrenamiento del modelo\n",
    "Entrenamos en este caso durante 500 épocas y le decimos que no noss muestre los resultados"
   ]
  },
  {
   "cell_type": "code",
   "execution_count": 4,
   "metadata": {},
   "outputs": [],
   "source": [
    "# Primero iniciamos tensorboard para que nos guarde los datos de simulación en una carpeta\n",
    "log_dir = \"logs\\\\fit\\\\\" + datetime.datetime.now().strftime(\"%Y%m%d-%H%M%S\")\n",
    "tensorboard_callback = tf.keras.callbacks.TensorBoard(log_dir=log_dir, histogram_freq=1)\n",
    "\n",
    "# Y entrenamos el modelo. Se entrena con 500 épocas para ver que no son necesarias\n",
    "entrenamiento = modelo.fit(x, y, epochs=500, verbose=False, callbacks=[tensorboard_callback])"
   ]
  },
  {
   "cell_type": "markdown",
   "metadata": {},
   "source": [
    "# Gráfico de pérdida\n",
    "Aquó podemos observar cómo la precisión del modelo va aumentando con el tiempo de forma que podemos analizar si el cambio de ciertos parámetros como el número de épocas podría resultar beneficioso o todo lo contrario.\n",
    "\n",
    "**Si queremos abrir tensorboard para más información, poner en la terminal:**\n",
    "\n",
    "cd \"ruta del notebook\"\n",
    "\n",
    "tensorboard --logdir='logs\\'\n",
    "\n",
    "Y en chrome, ya podemos abrir tensorboard con: http://localhost:6006/"
   ]
  },
  {
   "cell_type": "code",
   "execution_count": 5,
   "metadata": {},
   "outputs": [
    {
     "data": {
      "text/plain": [
       "[<matplotlib.lines.Line2D at 0x1d45ec41248>]"
      ]
     },
     "execution_count": 5,
     "metadata": {},
     "output_type": "execute_result"
    },
    {
     "data": {
      "image/png": "[encoded data removed]",
      "text/plain": [
       "<Figure size 432x288 with 1 Axes>"
      ]
     },
     "metadata": {
      "needs_background": "light"
     },
     "output_type": "display_data"
    }
   ],
   "source": [
    "plt.title(\"Gráfico de pérdida\")\n",
    "plt.xlabel(\"Época\")\n",
    "plt.ylabel(\"Loss\")\n",
    "plt.plot(entrenamiento.history['loss'])"
   ]
  },
  {
   "cell_type": "markdown",
   "metadata": {},
   "source": [
    "# Observar weights y biases\n",
    "Podemos comprobar que los valores que ha obtenido la red como weights y biases corresponden con la pendiente y la ordenada en el origen, ya que $y = mx + n = wx + b$"
   ]
  },
  {
   "cell_type": "code",
   "execution_count": 6,
   "metadata": {},
   "outputs": [
    {
     "name": "stdout",
     "output_type": "stream",
     "text": [
      "Los valores obtenidos son: [array([[1.999974]], dtype=float32), array([1.0007291], dtype=float32)]\n"
     ]
    }
   ],
   "source": [
    "print(\"Los valores obtenidos son: {}\".format(modelo.layers[0].get_weights()))"
   ]
  },
  {
   "cell_type": "markdown",
   "metadata": {},
   "source": [
    "# Predicción de valores\n",
    "Ahora viene la parte interesante y para la cual hemos creado la red, la predicción de valores. Introduciremos un valor y comprobaremos que obtenemos el resultado deseado"
   ]
  },
  {
   "cell_type": "code",
   "execution_count": 7,
   "metadata": {},
   "outputs": [
    {
     "name": "stdout",
     "output_type": "stream",
     "text": [
      "[[200.99814]]\n"
     ]
    }
   ],
   "source": [
    "print(modelo.predict([100.0]))"
   ]
  },
  {
   "cell_type": "markdown",
   "metadata": {},
   "source": [
    "Que es efectivamente el valor obtenido teóricamente"
   ]
  }
 ],
 "metadata": {
  "kernelspec": {
   "display_name": "Python 3",
   "language": "python",
   "name": "python3"
  },
  "language_info": {
   "codemirror_mode": {
    "name": "ipython",
    "version": 3
   },
   "file_extension": ".py",
   "mimetype": "text/x-python",
   "name": "python",
   "nbconvert_exporter": "python",
   "pygments_lexer": "ipython3",
   "version": "3.7.9"
  }
 },
 "nbformat": 4,
 "nbformat_minor": 4
}
